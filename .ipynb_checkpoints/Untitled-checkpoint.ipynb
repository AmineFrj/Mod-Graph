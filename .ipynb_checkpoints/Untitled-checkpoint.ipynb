{
 "cells": [
  {
   "cell_type": "code",
   "execution_count": 1,
   "metadata": {},
   "outputs": [],
   "source": [
    "from src import generate_affiliation_coaffiliation, generate_document_auteurs, generate_doc_terms, generate_graph, reorganise_graph_from_consensus\n",
    "import pandas as pd\n",
    "import matplotlib.pyplot as plt\n",
    "\n",
    "import networkx as nx\n",
    "import numpy as np"
   ]
  },
  {
   "cell_type": "code",
   "execution_count": 86,
   "metadata": {},
   "outputs": [
    {
     "data": {
      "text/plain": [
       "(826, 1)"
      ]
     },
     "execution_count": 86,
     "metadata": {},
     "output_type": "execute_result"
    }
   ],
   "source": [
    "co_aff= pd.read_hdf(\"data/results/co_affiliation.hdf\")\n",
    "consensus = pd.read_csv(\"data/results/consensus.csv\")\n"
   ]
  },
  {
   "cell_type": "code",
   "execution_count": 80,
   "metadata": {},
   "outputs": [
    {
     "data": {
      "text/plain": [
       "<matplotlib.lines.Line2D at 0x7fead5ccbc18>"
      ]
     },
     "execution_count": 80,
     "metadata": {},
     "output_type": "execute_result"
    },
    {
     "data": {
      "image/png": "[encoded data removed]",
      "text/plain": [
       "<Figure size 432x288 with 1 Axes>"
      ]
     },
     "metadata": {
      "needs_background": "light"
     },
     "output_type": "display_data"
    }
   ],
   "source": [
    "plt.spy(co_aff, markersize=2)"
   ]
  },
  {
   "cell_type": "code",
   "execution_count": 82,
   "metadata": {},
   "outputs": [
    {
     "name": "stdout",
     "output_type": "stream",
     "text": [
      "826\n",
      "(1, 1, 826, 827) (1, 1, 826, 827)\n"
     ]
    },
    {
     "ename": "ValueError",
     "evalue": "too many values to unpack (expected 2)",
     "output_type": "error",
     "traceback": [
      "\u001b[0;31m---------------------------------------------------------------------------\u001b[0m",
      "\u001b[0;31mValueError\u001b[0m                                Traceback (most recent call last)",
      "\u001b[0;32m<ipython-input-82-aa38ed2c7d7d>\u001b[0m in \u001b[0;36m<module>\u001b[0;34m\u001b[0m\n\u001b[1;32m     10\u001b[0m \u001b[0;34m\u001b[0m\u001b[0m\n\u001b[1;32m     11\u001b[0m \u001b[0mprint\u001b[0m\u001b[0;34m(\u001b[0m\u001b[0mnumpy_matrix2\u001b[0m\u001b[0;34m.\u001b[0m\u001b[0mshape\u001b[0m\u001b[0;34m,\u001b[0m \u001b[0mnumpy_matrix2\u001b[0m\u001b[0;34m.\u001b[0m\u001b[0mshape\u001b[0m\u001b[0;34m)\u001b[0m\u001b[0;34m\u001b[0m\u001b[0;34m\u001b[0m\u001b[0m\n\u001b[0;32m---> 12\u001b[0;31m \u001b[0mgraph2\u001b[0m \u001b[0;34m=\u001b[0m \u001b[0mnx\u001b[0m\u001b[0;34m.\u001b[0m\u001b[0mfrom_numpy_matrix\u001b[0m\u001b[0;34m(\u001b[0m\u001b[0mnumpy_matrix2\u001b[0m\u001b[0;34m)\u001b[0m\u001b[0;34m\u001b[0m\u001b[0;34m\u001b[0m\u001b[0m\n\u001b[0m\u001b[1;32m     13\u001b[0m \u001b[0;34m\u001b[0m\u001b[0m\n\u001b[1;32m     14\u001b[0m \u001b[0msize\u001b[0m \u001b[0;34m=\u001b[0m \u001b[0mlen\u001b[0m\u001b[0;34m(\u001b[0m\u001b[0mconsensus\u001b[0m\u001b[0;34m)\u001b[0m\u001b[0;34m\u001b[0m\u001b[0;34m\u001b[0m\u001b[0m\n",
      "\u001b[0;32m/usr/local/lib/python3.7/site-packages/networkx/convert_matrix.py\u001b[0m in \u001b[0;36mfrom_numpy_matrix\u001b[0;34m(A, parallel_edges, create_using)\u001b[0m\n\u001b[1;32m    544\u001b[0m         \u001b[0mkind_to_python_type\u001b[0m\u001b[0;34m[\u001b[0m\u001b[0;34m'U'\u001b[0m\u001b[0;34m]\u001b[0m \u001b[0;34m=\u001b[0m \u001b[0municode\u001b[0m\u001b[0;34m\u001b[0m\u001b[0;34m\u001b[0m\u001b[0m\n\u001b[1;32m    545\u001b[0m     \u001b[0mG\u001b[0m \u001b[0;34m=\u001b[0m \u001b[0mnx\u001b[0m\u001b[0;34m.\u001b[0m\u001b[0mempty_graph\u001b[0m\u001b[0;34m(\u001b[0m\u001b[0;36m0\u001b[0m\u001b[0;34m,\u001b[0m \u001b[0mcreate_using\u001b[0m\u001b[0;34m)\u001b[0m\u001b[0;34m\u001b[0m\u001b[0;34m\u001b[0m\u001b[0m\n\u001b[0;32m--> 546\u001b[0;31m     \u001b[0mn\u001b[0m\u001b[0;34m,\u001b[0m \u001b[0mm\u001b[0m \u001b[0;34m=\u001b[0m \u001b[0mA\u001b[0m\u001b[0;34m.\u001b[0m\u001b[0mshape\u001b[0m\u001b[0;34m\u001b[0m\u001b[0;34m\u001b[0m\u001b[0m\n\u001b[0m\u001b[1;32m    547\u001b[0m     \u001b[0;32mif\u001b[0m \u001b[0mn\u001b[0m \u001b[0;34m!=\u001b[0m \u001b[0mm\u001b[0m\u001b[0;34m:\u001b[0m\u001b[0;34m\u001b[0m\u001b[0;34m\u001b[0m\u001b[0m\n\u001b[1;32m    548\u001b[0m         raise nx.NetworkXError(\"Adjacency matrix is not square.\",\n",
      "\u001b[0;31mValueError\u001b[0m: too many values to unpack (expected 2)"
     ]
    }
   ],
   "source": [
    "numpy_matrix =co_aff.to_numpy()\n",
    "graph = nx.from_numpy_matrix(numpy_matrix) #Co affiliation\n",
    "\n",
    "print(len(consensus))\n",
    "\n",
    "index = np.argsort(consensus.to_numpy().T)\n",
    "\n",
    "numpy_matrix2 = numpy_matrix[index,:]\n",
    "numpy_matrix2 = numpy_matrix2[:,index]\n",
    "\n",
    "print(numpy_matrix2.shape, numpy_matrix2.shape)\n",
    "graph2 = nx.from_numpy_matrix(numpy_matrix2)\n",
    "\n",
    "size = len(consensus)\n",
    "colors = [\"#\"+''.join([random.choice('0123456789ABCDEF')for j in range(6)])for i in range(size)]\n",
    "\n",
    "npa = np.arange(size)\n",
    "\n",
    "# Affichage du graphe\n",
    "pos = nx.spring_layout(graph2)\n",
    "count = 0\n",
    "for com in consensus:\n",
    "    list_nodes = [nodes for nodes in npa if consensus[node]==com]\n",
    "    nx.draw_networkx_nodes(graph2,pos,list_nodes,node_size = 20, node_color=colors[count])\n",
    "    count += 1\n",
    "nx.draw_networkx_edges(graph2, pos, alpha=0.5)\n",
    "plt.axis(\"off\")\n",
    "plt.show()\n",
    "\n"
   ]
  },
  {
   "cell_type": "code",
   "execution_count": 83,
   "metadata": {},
   "outputs": [
    {
     "data": {
      "text/plain": [
       "((1, 1, 826, 827), (827, 827))"
      ]
     },
     "execution_count": 83,
     "metadata": {},
     "output_type": "execute_result"
    }
   ],
   "source": [
    "numpy_matrix2.shape, numpy_matrix.shape"
   ]
  },
  {
   "cell_type": "code",
   "execution_count": 77,
   "metadata": {},
   "outputs": [
    {
     "data": {
      "text/plain": [
       "(80,)"
      ]
     },
     "execution_count": 77,
     "metadata": {},
     "output_type": "execute_result"
    }
   ],
   "source": [
    "test = numpy_matrix[:,index]\n",
    "test = numpy_matrix[index,:]\n",
    "index.shape"
   ]
  },
  {
   "cell_type": "code",
   "execution_count": 76,
   "metadata": {},
   "outputs": [
    {
     "data": {
      "text/plain": [
       "array([[704,  76, 662,  74,  72, 145, 212, 589, 423, 735,  77, 210, 421,\n",
       "        651, 363, 478, 364, 646, 748, 481, 752, 359,  49, 297, 506, 579,\n",
       "        121, 693, 103, 583, 569, 131, 697, 700,  83, 584, 448,  93, 302,\n",
       "        229, 447, 445, 135, 716, 350, 611, 503, 417, 486,  26, 537, 521,\n",
       "        250, 786, 179,  17,  15, 795,  12, 799, 618, 803, 804, 529, 194,\n",
       "        281,  27, 625, 117, 630, 251, 629, 763, 594, 372, 552,  36, 370,\n",
       "        489, 774, 658, 163, 162, 617, 610, 667, 219, 459, 582, 581, 674,\n",
       "        580, 676, 337, 188, 133, 313, 338, 144, 501, 328, 655, 596, 174,\n",
       "        469, 460, 183, 634, 138, 635, 623, 621, 332, 180, 153, 620, 280,\n",
       "        585, 191, 340, 374, 243,  66, 244, 422, 420, 450, 555, 553, 248,\n",
       "        249, 405, 787, 253, 771, 260,  33, 404, 779, 780, 535, 557, 723,\n",
       "        538, 100, 449, 106, 300, 572, 284, 701, 703, 528, 109, 110, 111,\n",
       "        574, 719, 564, 234, 113, 686, 272, 810, 108, 285, 198, 266, 533,\n",
       "        283, 523, 608, 200, 531, 590, 305, 566, 299, 231, 563, 237, 213,\n",
       "        288, 560, 242, 209, 295, 206, 294, 256, 241, 192, 139, 310, 409,\n",
       "         55,  57,  64, 426, 724, 761,  70, 384,  79, 721, 720, 351, 348,\n",
       "         75,  91,  42, 770, 391, 382, 392, 809, 808, 380, 766, 797, 791,\n",
       "         22, 785, 784, 375, 775, 793, 708, 722, 102, 615, 493, 490, 173,\n",
       "        171, 633, 641, 644, 323, 148, 657, 333, 132, 524, 670, 123, 684,\n",
       "        694, 130, 668, 457, 495, 399, 341, 308, 491, 309, 347, 282, 311,\n",
       "        396, 317, 505, 429, 331, 462, 416, 414, 367, 352, 403, 325, 343,\n",
       "        513, 507, 517, 291, 290, 474, 371, 825, 666, 637, 645, 156, 155,\n",
       "        652, 150, 659, 140, 278, 127, 673, 677, 681, 687, 622, 692, 707,\n",
       "        709,  89, 711,  71, 740, 753, 764,  40, 781, 783, 801, 818, 821,\n",
       "        695, 177, 387, 619, 549, 255, 550, 245, 238, 235, 232, 225, 215,\n",
       "        536, 268, 217, 270, 186, 605, 276, 273, 197, 737, 547, 741, 743,\n",
       "        744, 746, 823, 530, 798, 747, 750, 518, 757, 736, 794, 758, 545,\n",
       "        402, 768, 778, 782, 734, 717, 726, 614, 640, 643, 612, 476, 603,\n",
       "        653, 600, 468, 597, 661, 502, 425, 664, 591, 456, 678, 680, 565,\n",
       "        713, 444, 492, 718, 548, 725, 428, 665, 525,   0, 259, 175, 154,\n",
       "        356,  51, 152, 298,  41,  37,  78, 202,  23, 353, 208,  19, 373,\n",
       "         84, 289, 257, 254, 263,  98, 274, 275,  56, 258,  10, 672, 122,\n",
       "        319, 682, 320, 327, 480, 119, 321, 656, 324, 467, 463, 464, 141,\n",
       "        129, 120, 500, 636, 541, 554, 246, 269, 562, 570, 577, 221, 516,\n",
       "        593, 595, 511, 599, 601, 602, 201, 196, 195, 306, 690, 613, 616,\n",
       "        496, 642, 107, 606, 336,  53, 427, 749, 424, 101, 755, 760,  45,\n",
       "        762,  34,  54,  30,  20, 789,  14, 796,  13,   8, 814, 394, 393,\n",
       "        819,  25, 431, 754,  85, 696,  99, 452, 702, 706,  92,  86,  82,\n",
       "         80,  69, 437, 465, 732, 223, 800, 571, 165, 227,   7, 812, 161,\n",
       "        698, 738, 559, 240, 650, 817,   3, 247, 551, 742,   2,   1, 558,\n",
       "        184, 220, 586, 730, 751, 654,  68, 609, 143, 181, 142,  61, 216,\n",
       "        777, 136,  81, 204, 624, 647, 790, 172, 587, 167,  32, 160, 385,\n",
       "        412, 527, 365, 358, 354, 430, 286, 470, 436, 438, 439, 304, 504,\n",
       "        344, 261, 342, 293, 512, 413, 497, 418, 406, 312, 534, 377, 369,\n",
       "        381, 539, 395, 390, 389, 410, 540, 115, 488, 683, 688, 330, 679,\n",
       "        322, 159, 128, 151, 157, 134, 471, 648, 137, 689, 482, 475, 479,\n",
       "        329, 691, 714, 453, 383,   4, 400,  11, 788, 368,  24,  28, 411,\n",
       "        824, 769,  48, 355,  58,  65, 346, 446, 345, 631,  87,  88, 710,\n",
       "         90,  94, 339, 458, 170, 546, 685, 271, 499, 193, 515, 575, 576,\n",
       "        303, 607, 578, 386, 604, 301, 508, 509, 510, 628, 598, 218, 211,\n",
       "        561, 239, 226, 207, 307, 176, 252, 262, 494, 267, 556,  62, 435,\n",
       "        815, 816, 731, 287,  60, 379,  63,  67, 543, 820, 440,  73, 442,\n",
       "        349, 520, 214, 292, 822, 728, 264,  16,   6,  18, 376,  21, 230,\n",
       "         29, 567, 568, 366,  39,  43,  44, 265, 419,  46,  47, 357, 378,\n",
       "        802, 279, 805, 745, 806, 432, 433, 807, 169, 514, 296, 626, 487,\n",
       "        485, 118, 461, 484, 124, 125, 182, 477, 326, 671, 669, 190, 185,\n",
       "        146, 498, 660, 334, 164, 472, 166, 705, 168, 632,  97, 318, 454,\n",
       "        699, 627, 455, 335,  96, 236, 544, 542, 147, 408, 388, 228, 407,\n",
       "         31, 149, 532, 233, 639, 315, 811, 638, 813, 397, 398, 314, 792,\n",
       "        473, 649, 316, 401, 483, 178,   5, 158,   9, 187, 663,  59, 114,\n",
       "        739, 434, 112, 222, 733, 522, 105, 104, 729, 451, 441, 203, 443,\n",
       "         95, 519, 715, 205, 588, 712, 199, 776, 116, 675,  35, 773, 772,\n",
       "        415,  38, 526, 592, 767, 277, 765, 189, 362, 126, 759, 756, 361,\n",
       "        360, 573,  50, 224,  52, 466, 727]])"
      ]
     },
     "execution_count": 76,
     "metadata": {},
     "output_type": "execute_result"
    }
   ],
   "source": [
    "np.argsort(consensus.to_numpy().T)"
   ]
  },
  {
   "cell_type": "code",
   "execution_count": 46,
   "metadata": {},
   "outputs": [
    {
     "data": {
      "text/plain": [
       "(827, 827)"
      ]
     },
     "execution_count": 46,
     "metadata": {},
     "output_type": "execute_result"
    }
   ],
   "source": [
    "co_aff.to_numpy().shape"
   ]
  },
  {
   "cell_type": "code",
   "execution_count": 84,
   "metadata": {},
   "outputs": [
    {
     "data": {
      "text/plain": [
       "(826, 1)"
      ]
     },
     "execution_count": 84,
     "metadata": {},
     "output_type": "execute_result"
    }
   ],
   "source": [
    "c = consensus.to_numpy().T.astype(int)\n",
    "consensus.shape"
   ]
  },
  {
   "cell_type": "code",
   "execution_count": 70,
   "metadata": {},
   "outputs": [
    {
     "data": {
      "text/plain": [
       "(1, 826)"
      ]
     },
     "execution_count": 70,
     "metadata": {},
     "output_type": "execute_result"
    }
   ],
   "source": [
    "c.shape"
   ]
  },
  {
   "cell_type": "code",
   "execution_count": 72,
   "metadata": {},
   "outputs": [],
   "source": [
    "num_class = np.unique(c)\n",
    "class_auteurs = np.zeros((len(num_class), len(consensus)))\n",
    "for i in num_class:\n",
    "    index = np.where(c == i)[1]\n",
    "    class_auteurs[i, index] = 1"
   ]
  },
  {
   "cell_type": "code",
   "execution_count": 73,
   "metadata": {},
   "outputs": [
    {
     "data": {
      "text/plain": [
       "826.0"
      ]
     },
     "execution_count": 73,
     "metadata": {},
     "output_type": "execute_result"
    }
   ],
   "source": [
    "sum(sum(class_auteurs))"
   ]
  },
  {
   "cell_type": "code",
   "execution_count": 68,
   "metadata": {},
   "outputs": [
    {
     "data": {
      "text/plain": [
       "(10, 826)"
      ]
     },
     "execution_count": 68,
     "metadata": {},
     "output_type": "execute_result"
    }
   ],
   "source": [
    "class_auteurs.shape"
   ]
  },
  {
   "cell_type": "code",
   "execution_count": 71,
   "metadata": {},
   "outputs": [
    {
     "data": {
      "text/plain": [
       "array([[4, 6, 6, 6, 7, 9, 8, 6, 5, 9, 4, 7, 0, 5, 5, 0, 8, 0, 8, 4, 5, 8,\n",
       "        2, 4, 7, 5, 0, 0, 7, 8, 5, 9, 6, 1, 5, 9, 0, 4, 9, 8, 3, 4, 2, 8,\n",
       "        8, 5, 8, 8, 7, 0, 9, 4, 9, 5, 5, 2, 4, 2, 7, 9, 8, 6, 8, 8, 2, 7,\n",
       "        1, 8, 6, 5, 2, 3, 0, 8, 0, 2, 0, 0, 4, 2, 5, 6, 5, 0, 4, 5, 5, 7,\n",
       "        7, 3, 7, 2, 5, 0, 7, 9, 8, 8, 4, 5, 1, 5, 2, 0, 9, 9, 1, 5, 1, 1,\n",
       "        1, 1, 9, 1, 9, 7, 9, 0, 8, 5, 5, 0, 5, 2, 8, 8, 9, 3, 7, 5, 2, 0,\n",
       "        2, 1, 7, 0, 6, 7, 1, 2, 3, 5, 6, 6, 1, 0, 8, 9, 2, 9, 3, 7, 4, 1,\n",
       "        4, 3, 3, 7, 9, 7, 6, 6, 1, 1, 8, 6, 8, 6, 8, 8, 7, 2, 6, 2, 1, 4,\n",
       "        7, 3, 9, 0, 1, 6, 8, 1, 6, 8, 3, 9, 1, 9, 8, 1, 2, 7, 0, 5, 5, 3,\n",
       "        2, 9, 2, 5, 4, 9, 6, 9, 2, 7, 4, 2, 0, 7, 0, 2, 8, 3, 6, 3, 7, 1,\n",
       "        6, 5, 9, 6, 9, 3, 7, 6, 9, 0, 8, 2, 3, 9, 1, 3, 9, 2, 3, 7, 6, 2,\n",
       "        2, 1, 1, 3, 5, 6, 1, 1, 0, 0, 7, 1, 4, 3, 2, 4, 4, 4, 1, 6, 7, 4,\n",
       "        8, 8, 2, 7, 3, 5, 3, 7, 1, 3, 4, 4, 3, 9, 3, 8, 1, 0, 3, 2, 1, 2,\n",
       "        6, 8, 2, 4, 3, 3, 8, 6, 2, 2, 8, 0, 4, 2, 1, 7, 0, 7, 6, 2, 5, 7,\n",
       "        3, 3, 2, 3, 6, 1, 9, 9, 9, 3, 8, 5, 5, 5, 7, 2, 5, 3, 8, 5, 1, 7,\n",
       "        7, 3, 1, 2, 8, 8, 5, 1, 1, 7, 1, 3, 6, 3, 6, 7, 7, 3, 2, 8, 0, 2,\n",
       "        3, 4, 6, 7, 4, 8, 6, 0, 9, 9, 9, 0, 0, 6, 8, 3, 7, 6, 0, 3, 0, 4,\n",
       "        1, 2, 8, 6, 8, 8, 2, 6, 2, 7, 2, 6, 7, 3, 9, 6, 6, 2, 2, 5, 5, 6,\n",
       "        3, 9, 9, 3, 7, 9, 4, 3, 1, 1, 6, 9, 9, 2, 6, 7, 6, 6, 3, 9, 3, 0,\n",
       "        6, 8, 1, 0, 1, 0, 5, 4, 2, 5, 4, 3, 6, 5, 8, 8, 9, 8, 6, 5, 6, 6,\n",
       "        8, 9, 8, 9, 4, 0, 7, 0, 0, 1, 1, 9, 5, 7, 8, 8, 4, 3, 7, 1, 1, 8,\n",
       "        3, 5, 5, 5, 9, 5, 4, 1, 6, 7, 8, 9, 3, 7, 4, 8, 0, 7, 5, 0, 7, 9,\n",
       "        8, 8, 0, 8, 7, 0, 2, 3, 4, 2, 7, 3, 5, 6, 8, 7, 5, 1, 4, 0, 6, 3,\n",
       "        0, 3, 7, 7, 7, 5, 6, 3, 8, 7, 5, 3, 4, 9, 8, 0, 9, 2, 2, 4, 9, 6,\n",
       "        1, 0, 4, 2, 9, 2, 6, 1, 3, 0, 1, 6, 6, 5, 9, 8, 9, 4, 7, 4, 4, 3,\n",
       "        3, 6, 0, 1, 5, 1, 7, 1, 6, 6, 2, 7, 5, 2, 1, 4, 2, 8, 8, 0, 5, 6,\n",
       "        1, 9, 1, 7, 7, 5, 7, 0, 1, 1, 1, 0, 0, 1, 6, 6, 9, 0, 2, 4, 9, 5,\n",
       "        0, 5, 1, 4, 7, 5, 4, 5, 5, 4, 7, 3, 5, 7, 2, 6, 1, 0, 4, 5, 4, 2,\n",
       "        5, 1, 0, 3, 1, 1, 3, 1, 6, 0, 8, 8, 7, 0, 0, 7, 8, 2, 1, 1, 5, 3,\n",
       "        9, 9, 4, 2, 5, 4, 2, 3, 0, 6, 7, 9, 6, 0, 3, 4, 6, 1, 5, 2, 1, 3,\n",
       "        8, 4, 0, 9, 4, 4, 3, 1, 2, 8, 2, 8, 5, 3, 1, 9, 1, 3, 4, 7, 4, 3,\n",
       "        5, 7, 2, 7, 1, 3, 7, 7, 5, 7, 3, 0, 2, 3, 5, 0, 6, 8, 0, 1, 5, 1,\n",
       "        0, 8, 5, 3, 2, 3, 7, 3, 9, 4, 7, 9, 0, 4, 4, 1, 2, 2, 2, 1, 2, 4,\n",
       "        4, 9, 8, 9, 6, 8, 5, 9, 4, 0, 4, 4, 6, 9, 3, 4, 6, 4, 4, 8, 4, 4,\n",
       "        0, 5, 4, 6, 0, 3, 5, 5, 9, 4, 4, 9, 5, 2, 5, 0, 3, 9, 2, 9, 4, 7,\n",
       "        2, 1, 9, 9, 0, 2, 9, 6, 4, 1, 1, 3, 4, 3, 2, 2, 0, 1, 7, 5, 6, 2,\n",
       "        9, 2, 4, 0, 5, 2, 4, 0, 6, 3, 8, 0, 0, 8, 8, 8, 2, 2, 1, 9, 6, 9,\n",
       "        5, 8, 8, 6, 3, 5, 8, 3, 8, 4, 7, 3]])"
      ]
     },
     "execution_count": 71,
     "metadata": {},
     "output_type": "execute_result"
    }
   ],
   "source": []
  },
  {
   "cell_type": "code",
   "execution_count": null,
   "metadata": {},
   "outputs": [],
   "source": []
  }
 ],
 "metadata": {
  "kernelspec": {
   "display_name": "Python 3",
   "language": "python",
   "name": "python3"
  },
  "language_info": {
   "codemirror_mode": {
    "name": "ipython",
    "version": 3
   },
   "file_extension": ".py",
   "mimetype": "text/x-python",
   "name": "python",
   "nbconvert_exporter": "python",
   "pygments_lexer": "ipython3",
   "version": "3.7.3"
  }
 },
 "nbformat": 4,
 "nbformat_minor": 2
}
